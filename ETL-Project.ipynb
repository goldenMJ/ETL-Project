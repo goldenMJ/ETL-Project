{
 "cells": [
  {
   "cell_type": "markdown",
   "metadata": {},
   "source": [
    "# ETL-Project - A Case Study of Extract, Transform, and Load###"
   ]
  },
  {
   "cell_type": "markdown",
   "metadata": {},
   "source": [
    "# Resorces:\n",
    "\n",
    "- AIDS_deaths_state.csv\n",
    "- webscraping: https://www.plannedparenthood.org/health-center\n"
   ]
  },
  {
   "cell_type": "markdown",
   "metadata": {},
   "source": [
    "# Install\n",
    "\n",
    "- BeautifulSoup\n",
    "- Requests\n",
    "- Pandas\n",
    "- os\n",
    "# ======================================\n"
   ]
  },
  {
   "cell_type": "markdown",
   "metadata": {},
   "source": [
    "# Extract\n",
    "# (1) Planned Parenthood Dataset\n",
    "# (2) AIDS Deaths Dataset\n",
    "\n",
    "\n",
    "# ======================================\n",
    "\n",
    "\n",
    "\n",
    "# Extract - Planned Parenthood Dataset\n",
    "\n",
    "To make it more challenging, one of my datasource will be unstructured data. I will extract the location details of planned parenthood health centers from the plannedparenthood.org webpage to obtain the total no. of centers by states. \n",
    "\n",
    "I will create a scraper in python that will extract the location details of clinics for a given state. \n",
    "\n",
    "Here is a list of fields the scraper will be extracting:\n",
    "\n",
    "1. Center Name\n",
    "2. City\n",
    "3. State\n",
    "\n",
    "As an example, below is a screenshoot of all the health centers in https://www.plannedparenthood.org/health-center/mn:\n",
    "\n",
    "*Note that each state has its own url link"
   ]
  },
  {
   "cell_type": "markdown",
   "metadata": {},
   "source": [
    "<img src=\"img/scraper.png\">"
   ]
  },
  {
   "cell_type": "markdown",
   "metadata": {},
   "source": [
    "- https://www.plannedparenthood.org/health-center/ak\n",
    "- https://www.plannedparenthood.org/health-center/al\n",
    "- https://www.plannedparenthood.org/health-center/ar\n",
    "- https://www.plannedparenthood.org/health-center/az\n",
    "- https://www.plannedparenthood.org/health-center/ca\n",
    "- https://www.plannedparenthood.org/health-center/co\n",
    "- https://www.plannedparenthood.org/health-center/ct\n",
    "- https://www.plannedparenthood.org/health-center/dc\n",
    "- https://www.plannedparenthood.org/health-center/de\n",
    "- https://www.plannedparenthood.org/health-center/fl\n",
    "- https://www.plannedparenthood.org/health-center/ga\n",
    "- https://www.plannedparenthood.org/health-center/hi\n",
    "- https://www.plannedparenthood.org/health-center/ia"
   ]
  },
  {
   "cell_type": "code",
   "execution_count": 80,
   "metadata": {},
   "outputs": [],
   "source": [
    " # Dependencies\n",
    "from bs4 import BeautifulSoup\n",
    "import requests\n",
    "import pprint\n",
    "import urllib.request as urllib2\n",
    "import csv\n",
    "import pandas as pd"
   ]
  },
  {
   "cell_type": "code",
   "execution_count": 60,
   "metadata": {},
   "outputs": [],
   "source": [
    "# URL of the pages to scrape\n",
    "ul_lists = []\n",
    "urls = ['https://www.plannedparenthood.org/health-center/ak', 'https://www.plannedparenthood.org/health-center/al', 'https://www.plannedparenthood.org/health-center/ar', 'https://www.plannedparenthood.org/health-center/az', 'https://www.plannedparenthood.org/health-center/ca', 'https://www.plannedparenthood.org/health-center/co', 'https://www.plannedparenthood.org/health-center/ct']\n",
    "for url in urls:\n",
    "    response = requests.get(url)\n",
    "    response.content\n",
    "    soup = BeautifulSoup(response.content, 'html.parser')\n",
    "\n",
    "    location_list = soup.findAll('span',{'class': 'address-region'})\n",
    "    ul_lists.append(location_list)\n",
    "\n"
   ]
  },
  {
   "cell_type": "code",
   "execution_count": 61,
   "metadata": {},
   "outputs": [
    {
     "name": "stdout",
     "output_type": "stream",
     "text": [
      "[[<span class=\"address-region\">Anchorage, AK</span>, <span class=\"address-region\">Fairbanks, AK</span>, <span class=\"address-region\">Juneau, AK</span>, <span class=\"address-region\">Soldotna, AK</span>], [<span class=\"address-region\">Birmingham, AL</span>, <span class=\"address-region\">Mobile, AL</span>], [<span class=\"address-region\">Little Rock, AR</span>], [<span class=\"address-region\">Flagstaff, AZ</span>, <span class=\"address-region\">Glendale, AZ</span>, <span class=\"address-region\">Mesa, AZ</span>, <span class=\"address-region\">Phoenix, AZ</span>, <span class=\"address-region\">Phoenix, AZ</span>, <span class=\"address-region\">Tempe, AZ</span>, <span class=\"address-region\">Tucson, AZ</span>], [<span class=\"address-region\">Alhambra, CA</span>, <span class=\"address-region\">Anaheim, CA</span>, <span class=\"address-region\">Antioch, CA</span>, <span class=\"address-region\">Bakersfield, CA</span>, <span class=\"address-region\">Burbank, CA</span>, <span class=\"address-region\">Canoga Park, CA</span>, <span class=\"address-region\">Carson, CA</span>, <span class=\"address-region\">Chico, CA</span>, <span class=\"address-region\">Chula Vista, CA</span>, <span class=\"address-region\">Clearlake, CA</span>, <span class=\"address-region\">Coachella, CA</span>, <span class=\"address-region\">Compton, CA</span>, <span class=\"address-region\">Concord, CA</span>, <span class=\"address-region\">Corona, CA</span>, <span class=\"address-region\">Costa Mesa, CA</span>, <span class=\"address-region\">El Cajon, CA</span>, <span class=\"address-region\">El Centro, CA</span>, <span class=\"address-region\">El Cerrito, CA</span>, <span class=\"address-region\">El Monte, CA</span>, <span class=\"address-region\">Escondido, CA</span>, <span class=\"address-region\">Eureka, CA</span>, <span class=\"address-region\">Fairfield, CA</span>, <span class=\"address-region\">Fresno, CA</span>, <span class=\"address-region\">Fresno, CA</span>, <span class=\"address-region\">Gilroy, CA</span>, <span class=\"address-region\">Glendora, CA</span>, <span class=\"address-region\">Hayward, CA</span>, <span class=\"address-region\">Lakewood, CA</span>, <span class=\"address-region\">Lakewood, CA</span>, <span class=\"address-region\">Lawndale, CA</span>, <span class=\"address-region\">Long Beach, CA</span>, <span class=\"address-region\">Los Angeles, CA</span>, <span class=\"address-region\">Los Angeles, CA</span>, <span class=\"address-region\">Los Angeles, CA</span>, <span class=\"address-region\">Los Angeles, CA</span>, <span class=\"address-region\">Los Angeles, CA</span>, <span class=\"address-region\">Los Angeles, CA</span>, <span class=\"address-region\">Los Angeles, CA</span>, <span class=\"address-region\">Madera, CA</span>, <span class=\"address-region\">Manteca, CA</span>, <span class=\"address-region\">Merced, CA</span>, <span class=\"address-region\">Mission Viejo, CA</span>, <span class=\"address-region\">Modesto, CA</span>, <span class=\"address-region\">Moreno Valley, CA</span>, <span class=\"address-region\">Mountain View, CA</span>, <span class=\"address-region\">Napa, CA</span>, <span class=\"address-region\">North Highlands, CA</span>, <span class=\"address-region\">Oakland, CA</span>, <span class=\"address-region\">Oakland, CA</span>, <span class=\"address-region\">Orange, CA</span>, <span class=\"address-region\">Palmdale, CA</span>, <span class=\"address-region\">Pasadena, CA</span>, <span class=\"address-region\">Pomona, CA</span>, <span class=\"address-region\">Rancho Mirage, CA</span>, <span class=\"address-region\">Rancho Mirage, CA</span>, <span class=\"address-region\">Redding, CA</span>, <span class=\"address-region\">Redwood City, CA</span>, <span class=\"address-region\">Richmond, CA</span>, <span class=\"address-region\">Riverside, CA</span>, <span class=\"address-region\">Roseville, CA</span>, <span class=\"address-region\">Sacramento, CA</span>, <span class=\"address-region\">Sacramento, CA</span>, <span class=\"address-region\">Sacramento, CA</span>, <span class=\"address-region\">Salinas, CA</span>, <span class=\"address-region\">San Bernardino, CA</span>, <span class=\"address-region\">San Diego, CA</span>, <span class=\"address-region\">San Diego, CA</span>, <span class=\"address-region\">San Diego, CA</span>, <span class=\"address-region\">San Diego, CA</span>, <span class=\"address-region\">San Diego, CA</span>, <span class=\"address-region\">San Diego, CA</span>, <span class=\"address-region\">San Diego, CA</span>, <span class=\"address-region\">San Diego, CA</span>, <span class=\"address-region\">San Francisco, CA</span>, <span class=\"address-region\">San Francisco, CA</span>, <span class=\"address-region\">San Jose, CA</span>, <span class=\"address-region\">San Jose, CA</span>, <span class=\"address-region\">San Jose, CA</span>, <span class=\"address-region\">San Jose, CA</span>, <span class=\"address-region\">San Luis Obispo, CA</span>, <span class=\"address-region\">San Mateo, CA</span>, <span class=\"address-region\">San Rafael, CA</span>, <span class=\"address-region\">San Ramon, CA</span>, <span class=\"address-region\">Santa Ana, CA</span>, <span class=\"address-region\">Santa Barbara, CA</span>, <span class=\"address-region\">Santa Cruz, CA</span>, <span class=\"address-region\">Santa Maria, CA</span>, <span class=\"address-region\">Santa Monica, CA</span>, <span class=\"address-region\">Santa Rosa, CA</span>, <span class=\"address-region\">Seaside, CA</span>, <span class=\"address-region\">South San Francisco, CA</span>, <span class=\"address-region\">Stockton, CA</span>, <span class=\"address-region\">Stockton, CA</span>, <span class=\"address-region\">Thousand Oaks, CA</span>, <span class=\"address-region\">Tracy, CA</span>, <span class=\"address-region\">Ukiah, CA</span>, <span class=\"address-region\">Upland, CA</span>, <span class=\"address-region\">Vallejo, CA</span>, <span class=\"address-region\">Van Nuys, CA</span>, <span class=\"address-region\">Ventura, CA</span>, <span class=\"address-region\">Victorville, CA</span>, <span class=\"address-region\">Visalia, CA</span>, <span class=\"address-region\">Vista, CA</span>, <span class=\"address-region\">Walnut Creek, CA</span>, <span class=\"address-region\">Watsonville, CA</span>, <span class=\"address-region\">West Hollywood, CA</span>, <span class=\"address-region\">Westminster, CA</span>, <span class=\"address-region\">Whittier, CA</span>, <span class=\"address-region\">Woodland, CA</span>, <span class=\"address-region\">Yuba City, CA</span>], [<span class=\"address-region\">Alamosa, CO</span>, <span class=\"address-region\">Arvada, CO</span>, <span class=\"address-region\">Aurora, CO</span>, <span class=\"address-region\">Boulder, CO</span>, <span class=\"address-region\">Colorado Springs, CO</span>, <span class=\"address-region\">Cortez, CO</span>, <span class=\"address-region\">Denver, CO</span>, <span class=\"address-region\">Denver, CO</span>, <span class=\"address-region\">Denver, CO</span>, <span class=\"address-region\">Durango, CO</span>, <span class=\"address-region\">Fort Collins, CO</span>, <span class=\"address-region\">Glenwood Springs, CO</span>, <span class=\"address-region\">Granby, CO</span>, <span class=\"address-region\">Greeley, CO</span>, <span class=\"address-region\">Lakewood, CO</span>, <span class=\"address-region\">Littleton, CO</span>, <span class=\"address-region\">Salida, CO</span>, <span class=\"address-region\">Steamboat Springs, CO</span>], [<span class=\"address-region\">Bridgeport, CT</span>, <span class=\"address-region\">Danbury, CT</span>, <span class=\"address-region\">Danielson, CT</span>, <span class=\"address-region\">Enfield, CT</span>, <span class=\"address-region\">Hartford, CT</span>, <span class=\"address-region\">Manchester, CT</span>, <span class=\"address-region\">Meriden, CT</span>, <span class=\"address-region\">New Haven, CT</span>, <span class=\"address-region\">New London, CT</span>, <span class=\"address-region\">Norwich, CT</span>, <span class=\"address-region\">Old Saybrook, CT</span>, <span class=\"address-region\">Stamford, CT</span>, <span class=\"address-region\">Torrington, CT</span>, <span class=\"address-region\">Waterbury, CT</span>, <span class=\"address-region\">West Hartford, CT</span>, <span class=\"address-region\">Willimantic, CT</span>]]\n"
     ]
    }
   ],
   "source": [
    "#print ul_lists\n",
    "print(ul_lists)\n"
   ]
  },
  {
   "cell_type": "code",
   "execution_count": 65,
   "metadata": {},
   "outputs": [
    {
     "name": "stdout",
     "output_type": "stream",
     "text": [
      "['Anchorage, AK', 'Fairbanks, AK', 'Juneau, AK', 'Soldotna, AK', 'Birmingham, AL', 'Mobile, AL', 'Little Rock, AR', 'Flagstaff, AZ', 'Glendale, AZ', 'Mesa, AZ', 'Phoenix, AZ', 'Phoenix, AZ', 'Tempe, AZ', 'Tucson, AZ', 'Alhambra, CA', 'Anaheim, CA', 'Antioch, CA', 'Bakersfield, CA', 'Burbank, CA', 'Canoga Park, CA', 'Carson, CA', 'Chico, CA', 'Chula Vista, CA', 'Clearlake, CA', 'Coachella, CA', 'Compton, CA', 'Concord, CA', 'Corona, CA', 'Costa Mesa, CA', 'El Cajon, CA', 'El Centro, CA', 'El Cerrito, CA', 'El Monte, CA', 'Escondido, CA', 'Eureka, CA', 'Fairfield, CA', 'Fresno, CA', 'Fresno, CA', 'Gilroy, CA', 'Glendora, CA', 'Hayward, CA', 'Lakewood, CA', 'Lakewood, CA', 'Lawndale, CA', 'Long Beach, CA', 'Los Angeles, CA', 'Los Angeles, CA', 'Los Angeles, CA', 'Los Angeles, CA', 'Los Angeles, CA', 'Los Angeles, CA', 'Los Angeles, CA', 'Madera, CA', 'Manteca, CA', 'Merced, CA', 'Mission Viejo, CA', 'Modesto, CA', 'Moreno Valley, CA', 'Mountain View, CA', 'Napa, CA', 'North Highlands, CA', 'Oakland, CA', 'Oakland, CA', 'Orange, CA', 'Palmdale, CA', 'Pasadena, CA', 'Pomona, CA', 'Rancho Mirage, CA', 'Rancho Mirage, CA', 'Redding, CA', 'Redwood City, CA', 'Richmond, CA', 'Riverside, CA', 'Roseville, CA', 'Sacramento, CA', 'Sacramento, CA', 'Sacramento, CA', 'Salinas, CA', 'San Bernardino, CA', 'San Diego, CA', 'San Diego, CA', 'San Diego, CA', 'San Diego, CA', 'San Diego, CA', 'San Diego, CA', 'San Diego, CA', 'San Diego, CA', 'San Francisco, CA', 'San Francisco, CA', 'San Jose, CA', 'San Jose, CA', 'San Jose, CA', 'San Jose, CA', 'San Luis Obispo, CA', 'San Mateo, CA', 'San Rafael, CA', 'San Ramon, CA', 'Santa Ana, CA', 'Santa Barbara, CA', 'Santa Cruz, CA', 'Santa Maria, CA', 'Santa Monica, CA', 'Santa Rosa, CA', 'Seaside, CA', 'South San Francisco, CA', 'Stockton, CA', 'Stockton, CA', 'Thousand Oaks, CA', 'Tracy, CA', 'Ukiah, CA', 'Upland, CA', 'Vallejo, CA', 'Van Nuys, CA', 'Ventura, CA', 'Victorville, CA', 'Visalia, CA', 'Vista, CA', 'Walnut Creek, CA', 'Watsonville, CA', 'West Hollywood, CA', 'Westminster, CA', 'Whittier, CA', 'Woodland, CA', 'Yuba City, CA', 'Alamosa, CO', 'Arvada, CO', 'Aurora, CO', 'Boulder, CO', 'Colorado Springs, CO', 'Cortez, CO', 'Denver, CO', 'Denver, CO', 'Denver, CO', 'Durango, CO', 'Fort Collins, CO', 'Glenwood Springs, CO', 'Granby, CO', 'Greeley, CO', 'Lakewood, CO', 'Littleton, CO', 'Salida, CO', 'Steamboat Springs, CO', 'Bridgeport, CT', 'Danbury, CT', 'Danielson, CT', 'Enfield, CT', 'Hartford, CT', 'Manchester, CT', 'Meriden, CT', 'New Haven, CT', 'New London, CT', 'Norwich, CT', 'Old Saybrook, CT', 'Stamford, CT', 'Torrington, CT', 'Waterbury, CT', 'West Hartford, CT', 'Willimantic, CT']\n"
     ]
    }
   ],
   "source": [
    "#loop through ul_lists to extract only text\n",
    "locations = []\n",
    "soup = BeautifulSoup(str(ul_lists))\n",
    "spans = soup.findAll('span')\n",
    "for span in spans:\n",
    "    locations.append(span.text)\n",
    "    \n",
    "print(locations)    "
   ]
  },
  {
   "cell_type": "code",
   "execution_count": 98,
   "metadata": {},
   "outputs": [
    {
     "data": {
      "text/html": [
       "<div>\n",
       "<style scoped>\n",
       "    .dataframe tbody tr th:only-of-type {\n",
       "        vertical-align: middle;\n",
       "    }\n",
       "\n",
       "    .dataframe tbody tr th {\n",
       "        vertical-align: top;\n",
       "    }\n",
       "\n",
       "    .dataframe thead th {\n",
       "        text-align: right;\n",
       "    }\n",
       "</style>\n",
       "<table border=\"1\" class=\"dataframe\">\n",
       "  <thead>\n",
       "    <tr style=\"text-align: right;\">\n",
       "      <th></th>\n",
       "      <th>city</th>\n",
       "      <th>state</th>\n",
       "    </tr>\n",
       "  </thead>\n",
       "  <tbody>\n",
       "    <tr>\n",
       "      <td>0</td>\n",
       "      <td>Anchorage</td>\n",
       "      <td>AK</td>\n",
       "    </tr>\n",
       "    <tr>\n",
       "      <td>1</td>\n",
       "      <td>Fairbanks</td>\n",
       "      <td>AK</td>\n",
       "    </tr>\n",
       "    <tr>\n",
       "      <td>2</td>\n",
       "      <td>Juneau</td>\n",
       "      <td>AK</td>\n",
       "    </tr>\n",
       "    <tr>\n",
       "      <td>3</td>\n",
       "      <td>Soldotna</td>\n",
       "      <td>AK</td>\n",
       "    </tr>\n",
       "    <tr>\n",
       "      <td>4</td>\n",
       "      <td>Birmingham</td>\n",
       "      <td>AL</td>\n",
       "    </tr>\n",
       "    <tr>\n",
       "      <td>...</td>\n",
       "      <td>...</td>\n",
       "      <td>...</td>\n",
       "    </tr>\n",
       "    <tr>\n",
       "      <td>153</td>\n",
       "      <td>Stamford</td>\n",
       "      <td>CT</td>\n",
       "    </tr>\n",
       "    <tr>\n",
       "      <td>154</td>\n",
       "      <td>Torrington</td>\n",
       "      <td>CT</td>\n",
       "    </tr>\n",
       "    <tr>\n",
       "      <td>155</td>\n",
       "      <td>Waterbury</td>\n",
       "      <td>CT</td>\n",
       "    </tr>\n",
       "    <tr>\n",
       "      <td>156</td>\n",
       "      <td>West Hartford</td>\n",
       "      <td>CT</td>\n",
       "    </tr>\n",
       "    <tr>\n",
       "      <td>157</td>\n",
       "      <td>Willimantic</td>\n",
       "      <td>CT</td>\n",
       "    </tr>\n",
       "  </tbody>\n",
       "</table>\n",
       "<p>158 rows × 2 columns</p>\n",
       "</div>"
      ],
      "text/plain": [
       "              city state\n",
       "0        Anchorage    AK\n",
       "1        Fairbanks    AK\n",
       "2           Juneau    AK\n",
       "3         Soldotna    AK\n",
       "4       Birmingham    AL\n",
       "..             ...   ...\n",
       "153       Stamford    CT\n",
       "154     Torrington    CT\n",
       "155      Waterbury    CT\n",
       "156  West Hartford    CT\n",
       "157    Willimantic    CT\n",
       "\n",
       "[158 rows x 2 columns]"
      ]
     },
     "execution_count": 98,
     "metadata": {},
     "output_type": "execute_result"
    }
   ],
   "source": [
    "#save to csv\n",
    "df = pd.DataFrame(locations, columns=[\"location\"])\n",
    "df.to_csv('plannedParenthood.csv', index=False)\n",
    "\n",
    "#read csv to split column (delimiter=',') to two \n",
    "data = pd.read_csv(\"plannedParenthood.csv\") \n",
    "\n",
    "# new data frame with split value columns \n",
    "new = data[\"location\"].str.split(\",\", n = 1, expand = True) \n",
    "\n",
    "# making separate first name column from new data frame \n",
    "data[\"city\"]= new[0] \n",
    "\n",
    "# making separate last name column from new data frame \n",
    "data[\"state\"]= new[1] \n",
    "\n",
    "# Dropping old column names\n",
    "data.drop(columns =[\"location\"], inplace = True) \n",
    "  \n",
    "#save to csv\n",
    "data.to_csv('plannedParenthood.csv', index=False)\n",
    "\n",
    "# df display \n",
    "data\n"
   ]
  },
  {
   "cell_type": "markdown",
   "metadata": {},
   "source": [
    "# Extract - AIDS Deaths Dataset"
   ]
  },
  {
   "cell_type": "code",
   "execution_count": null,
   "metadata": {},
   "outputs": [],
   "source": [
    "# Dependencies\n",
    "import pandas as pd\n",
    "import os"
   ]
  },
  {
   "cell_type": "code",
   "execution_count": null,
   "metadata": {},
   "outputs": [],
   "source": [
    "#set file path\n",
    "file = 'AIDS_deaths_state.csv'\n",
    "\n",
    "#load csv to df\n",
    "df = pd.read_csv(file)\n"
   ]
  },
  {
   "cell_type": "markdown",
   "metadata": {},
   "source": [
    "# Transform\n",
    "\n",
    "# ======================================"
   ]
  },
  {
   "cell_type": "code",
   "execution_count": null,
   "metadata": {},
   "outputs": [],
   "source": [
    "g = df.groupby('Geography')\n",
    "g"
   ]
  },
  {
   "cell_type": "code",
   "execution_count": null,
   "metadata": {},
   "outputs": [],
   "source": [
    "for Geography, Geography_df in g:\n",
    "    print(Geography)\n",
    "    print(Geography_df)"
   ]
  },
  {
   "cell_type": "code",
   "execution_count": null,
   "metadata": {},
   "outputs": [],
   "source": [
    "#end up running into issues with my groupby function. \n",
    "#Groupby Geography and sum() Cases would throw me an error but not when\n",
    "#applying max and min for Cases so I used excel to groupby Geography \n",
    "\n",
    "#set file path\n",
    "file = 'AIDS_deaths_sum_state csv.csv'\n",
    "\n",
    "#load csv to df\n",
    "aids_group = pd.read_csv(file)\n",
    "\n",
    "\n",
    "\n",
    "\n"
   ]
  },
  {
   "cell_type": "code",
   "execution_count": null,
   "metadata": {},
   "outputs": [],
   "source": [
    "#dropp all U.S. territory that are not a state\n",
    "#American Samoa\n",
    "#Northern Mariana Island\n",
    "#U.S. Virgin Islands\n",
    "#Puerto Rico\n",
    "#Northern Mariana Islands\n",
    "#Guam\n",
    "#District of Columbia - federal state\n",
    "\n",
    "# dropping passed values \n",
    "#aids_group.drop([\"American Samoa\", \"Northern Mariana Island\", \"U.S. Virgin Islands\", \n",
    "                            #\"Puerto Rico\", \"Northern Mariana Islands\", \"Guam\", \"District of Columbia\"], axis = 1, inplace = True)\n",
    "#display\n",
    "aids_group.head()\n",
    "\n",
    "\n"
   ]
  },
  {
   "cell_type": "markdown",
   "metadata": {},
   "source": [
    "# Load and Connect to PostgreSQL DB server using pgAdmin\n",
    "\n",
    "- open new pdAdmin window\n",
    "- create new DB - aids_group\n",
    "- create tables\n",
    "\n",
    "\n",
    "# ======================================\n"
   ]
  },
  {
   "cell_type": "markdown",
   "metadata": {},
   "source": [
    "-- Database: aids_group\n",
    "\n",
    "-- DROP DATABASE aids_group;\n",
    "\n",
    "CREATE DATABASE aids_group\n",
    "    WITH \n",
    "    OWNER = postgres\n",
    "    ENCODING = 'UTF8'\n",
    "    LC_COLLATE = 'C'\n",
    "    LC_CTYPE = 'C'\n",
    "    TABLESPACE = pg_default\n",
    "    CONNECTION LIMIT = -1;\n",
    "    \n",
    "    \n",
    "-- CREATE TABLE;\n",
    "\n",
    "CREATE TABLE aids(\n",
    "   Geography VARCHAR(50),\n",
    "   sum_cases INT,\n",
    "   PRIMARY KEY(Geography)\n",
    ");\n",
    "\n",
    "SELECT *\n",
    "FROM aids;"
   ]
  },
  {
   "cell_type": "markdown",
   "metadata": {},
   "source": [
    "<img src=\"img/db.png\">"
   ]
  }
 ],
 "metadata": {
  "kernelspec": {
   "display_name": "Python 3",
   "language": "python",
   "name": "python3"
  },
  "language_info": {
   "codemirror_mode": {
    "name": "ipython",
    "version": 3
   },
   "file_extension": ".py",
   "mimetype": "text/x-python",
   "name": "python",
   "nbconvert_exporter": "python",
   "pygments_lexer": "ipython3",
   "version": "3.7.3"
  }
 },
 "nbformat": 4,
 "nbformat_minor": 2
}
