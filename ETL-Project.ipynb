{
 "cells": [
  {
   "cell_type": "markdown",
   "metadata": {},
   "source": [
    "# ETL-Project - A Case Study of Extract, Transform, and Load###"
   ]
  },
  {
   "cell_type": "markdown",
   "metadata": {},
   "source": [
    "# Resorces:\n",
    "\n",
    "- AIDS_deaths_state.csv\n",
    "- webscraping: https://www.plannedparenthood.org/health-center\n"
   ]
  },
  {
   "cell_type": "markdown",
   "metadata": {},
   "source": [
    "# Install\n",
    "\n",
    "- BeautifulSoup\n",
    "- Requests\n",
    "- Pandas\n",
    "- os\n",
    "# ======================================\n"
   ]
  },
  {
   "cell_type": "markdown",
   "metadata": {},
   "source": [
    "# Extract\n",
    "# (1) Planned Parenthood Dataset\n",
    "# (2) AIDS Deaths Dataset\n",
    "\n",
    "\n",
    "# ======================================\n",
    "\n",
    "\n",
    "\n",
    "# Extract - Planned Parenthood Dataset\n",
    "\n",
    "To make it more challenging, one of my datasource will be unstructured data. I will extract the location details of planned parenthood health centers from the plannedparenthood.org webpage to obtain the total no. of centers by states. \n",
    "\n",
    "I will create a scraper in python that will extract the location details of clinics for a given state. \n",
    "\n",
    "Here is a list of fields the scraper will be extracting:\n",
    "\n",
    "1. Center Name\n",
    "2. City\n",
    "3. State\n",
    "\n",
    "As an example, below is a screenshoot of all the health centers in https://www.plannedparenthood.org/health-center/mn:\n",
    "\n",
    "*Note that each state has its own url link"
   ]
  },
  {
   "cell_type": "markdown",
   "metadata": {},
   "source": [
    "<img src=\"img/scraper.png\">"
   ]
  },
  {
   "cell_type": "markdown",
   "metadata": {},
   "source": [
    "- https://www.plannedparenthood.org/health-center/ak\n",
    "- https://www.plannedparenthood.org/health-center/al\n",
    "- https://www.plannedparenthood.org/health-center/ar\n",
    "- https://www.plannedparenthood.org/health-center/az\n",
    "- https://www.plannedparenthood.org/health-center/ca\n",
    "- https://www.plannedparenthood.org/health-center/co\n",
    "- https://www.plannedparenthood.org/health-center/ct\n",
    "- https://www.plannedparenthood.org/health-center/dc\n",
    "- https://www.plannedparenthood.org/health-center/de\n",
    "- https://www.plannedparenthood.org/health-center/fl\n",
    "- https://www.plannedparenthood.org/health-center/ga\n",
    "- https://www.plannedparenthood.org/health-center/hi\n",
    "- https://www.plannedparenthood.org/health-center/ia"
   ]
  },
  {
   "cell_type": "code",
   "execution_count": null,
   "metadata": {},
   "outputs": [],
   "source": [
    " # Dependencies\n",
    "from bs4 import BeautifulSoup\n",
    "import requests\n",
    "import pprint\n",
    "import urllib.request as urllib2"
   ]
  },
  {
   "cell_type": "code",
   "execution_count": null,
   "metadata": {},
   "outputs": [],
   "source": [
    "# URL of page to be scraped\n",
    "url = 'https://www.plannedparenthood.org/health-center/ak'\n",
    "response = requests.get(url)\n",
    "response.content\n",
    "\n"
   ]
  },
  {
   "cell_type": "code",
   "execution_count": null,
   "metadata": {},
   "outputs": [],
   "source": [
    "soup = BeautifulSoup(response.content, 'html.parser')\n",
    "soup"
   ]
  },
  {
   "cell_type": "code",
   "execution_count": null,
   "metadata": {},
   "outputs": [],
   "source": [
    "# Examine the results, then determine element that contains sought info\n",
    "print(soup.prettify())"
   ]
  },
  {
   "cell_type": "markdown",
   "metadata": {},
   "source": [
    "# Transform\n",
    "\n",
    "# ======================================"
   ]
  },
  {
   "cell_type": "code",
   "execution_count": null,
   "metadata": {},
   "outputs": [],
   "source": [
    "ul_lists = soup.find_all('span', {'class': 'address-region'})\n",
    "ul_lists"
   ]
  },
  {
   "cell_type": "code",
   "execution_count": null,
   "metadata": {},
   "outputs": [],
   "source": [
    "AK = len(ul_lists)\n"
   ]
  },
  {
   "cell_type": "markdown",
   "metadata": {},
   "source": [
    "# Extract - AIDS Deaths Dataset"
   ]
  },
  {
   "cell_type": "code",
   "execution_count": null,
   "metadata": {},
   "outputs": [],
   "source": [
    "# Dependencies\n",
    "import pandas as pd\n",
    "import os"
   ]
  },
  {
   "cell_type": "code",
   "execution_count": null,
   "metadata": {},
   "outputs": [],
   "source": [
    "#set file path\n",
    "file = 'AIDS_deaths_state.csv'\n",
    "\n",
    "#load csv to df\n",
    "df = pd.read_csv(file)\n"
   ]
  },
  {
   "cell_type": "markdown",
   "metadata": {},
   "source": [
    "# Transform\n",
    "\n",
    "# ======================================"
   ]
  },
  {
   "cell_type": "code",
   "execution_count": null,
   "metadata": {},
   "outputs": [],
   "source": [
    "g = df.groupby('Geography')\n",
    "g"
   ]
  },
  {
   "cell_type": "code",
   "execution_count": null,
   "metadata": {},
   "outputs": [],
   "source": [
    "for Geography, Geography_df in g:\n",
    "    print(Geography)\n",
    "    print(Geography_df)"
   ]
  },
  {
   "cell_type": "code",
   "execution_count": null,
   "metadata": {},
   "outputs": [],
   "source": [
    "#end up running into issues with my groupby function. \n",
    "#Groupby Geography and sum() Cases would throw me an error but not when\n",
    "#applying max and min for Cases so I used excel to groupby Geography \n",
    "\n",
    "#set file path\n",
    "file = 'AIDS_deaths_sum_state csv.csv'\n",
    "\n",
    "#load csv to df\n",
    "aids_group = pd.read_csv(file)\n",
    "\n",
    "\n",
    "\n",
    "\n"
   ]
  },
  {
   "cell_type": "code",
   "execution_count": null,
   "metadata": {},
   "outputs": [],
   "source": [
    "#dropp all U.S. territory that are not a state\n",
    "#American Samoa\n",
    "#Northern Mariana Island\n",
    "#U.S. Virgin Islands\n",
    "#Puerto Rico\n",
    "#Northern Mariana Islands\n",
    "#Guam\n",
    "#District of Columbia - federal state\n",
    "\n",
    "# dropping passed values \n",
    "#aids_group.drop([\"American Samoa\", \"Northern Mariana Island\", \"U.S. Virgin Islands\", \n",
    "                            #\"Puerto Rico\", \"Northern Mariana Islands\", \"Guam\", \"District of Columbia\"], axis = 1, inplace = True)\n",
    "#display\n",
    "aids_group.head()\n",
    "\n",
    "\n"
   ]
  },
  {
   "cell_type": "markdown",
   "metadata": {},
   "source": [
    "# Load and Connect to PostgreSQL DB server using pgAdmin\n",
    "\n",
    "- open new pdAdmin window\n",
    "- create new DB - aids_group\n",
    "- create tables\n",
    "\n",
    "\n",
    "# ======================================\n"
   ]
  },
  {
   "cell_type": "raw",
   "metadata": {},
   "source": [
    "-- Database: aids_group\n",
    "\n",
    "-- DROP DATABASE aids_group;\n",
    "\n",
    "CREATE DATABASE aids_group\n",
    "    WITH \n",
    "    OWNER = postgres\n",
    "    ENCODING = 'UTF8'\n",
    "    LC_COLLATE = 'C'\n",
    "    LC_CTYPE = 'C'\n",
    "    TABLESPACE = pg_default\n",
    "    CONNECTION LIMIT = -1;\n",
    "    \n",
    "    \n",
    "-- CREATE TABLE;\n",
    "\n",
    "CREATE TABLE aids(\n",
    "   Geography VARCHAR(50),\n",
    "   sum_cases INT,\n",
    "   PRIMARY KEY(Geography)\n",
    ");\n",
    "\n",
    "SELECT *\n",
    "FROM aids;"
   ]
  },
  {
   "cell_type": "markdown",
   "metadata": {},
   "source": [
    "<img src=\"img/db.png\">"
   ]
  },
  {
   "cell_type": "code",
   "execution_count": null,
   "metadata": {},
   "outputs": [],
   "source": [
    "\n",
    "\n"
   ]
  },
  {
   "cell_type": "code",
   "execution_count": null,
   "metadata": {},
   "outputs": [],
   "source": []
  },
  {
   "cell_type": "code",
   "execution_count": null,
   "metadata": {},
   "outputs": [],
   "source": [
    "\n",
    "    "
   ]
  },
  {
   "cell_type": "code",
   "execution_count": null,
   "metadata": {},
   "outputs": [],
   "source": []
  }
 ],
 "metadata": {
  "kernelspec": {
   "display_name": "Python 3",
   "language": "python",
   "name": "python3"
  },
  "language_info": {
   "codemirror_mode": {
    "name": "ipython",
    "version": 3
   },
   "file_extension": ".py",
   "mimetype": "text/x-python",
   "name": "python",
   "nbconvert_exporter": "python",
   "pygments_lexer": "ipython3",
   "version": "3.7.3"
  }
 },
 "nbformat": 4,
 "nbformat_minor": 2
}
