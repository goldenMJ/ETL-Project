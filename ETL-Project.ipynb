{
 "cells": [
  {
   "cell_type": "markdown",
   "metadata": {},
   "source": [
    "# ETL-Project - A Case Study of Extract, Transform, and Load###"
   ]
  },
  {
   "cell_type": "markdown",
   "metadata": {},
   "source": [
    "# Resorces:\n",
    "\n",
    "- AIDS_deaths_state.csv\n",
    "- webscraping: https://www.plannedparenthood.org/health-center\n"
   ]
  },
  {
   "cell_type": "markdown",
   "metadata": {},
   "source": [
    "# Install\n",
    "\n",
    "- BeautifulSoup\n",
    "- Requests\n",
    "- Pandas\n",
    "- os\n",
    "# ======================================\n"
   ]
  },
  {
   "cell_type": "markdown",
   "metadata": {},
   "source": [
    "# Extract\n",
    "# (1) Planned Parenthood Dataset\n",
    "# (2) AIDS Deaths Dataset\n",
    "\n",
    "\n",
    "# ======================================\n",
    "\n",
    "\n",
    "\n",
    "# Extract - Planned Parenthood Dataset\n",
    "\n",
    "To make it more challenging, one of my datasource will be unstructured data. I will extract the location details of planned parenthood health centers from the plannedparenthood.org webpage to obtain the total no. of centers by states. \n",
    "\n",
    "I will create a scraper in python that will extract the location details of clinics for a given state. \n",
    "\n",
    "Here is a list of fields the scraper will be extracting:\n",
    "\n",
    "1. Center Name\n",
    "2. City\n",
    "3. State\n",
    "\n",
    "As an example, below is a screenshoot of all the health centers in https://www.plannedparenthood.org/health-center/mn:\n",
    "\n",
    "*Note that each state has its own url link"
   ]
  },
  {
   "cell_type": "markdown",
   "metadata": {},
   "source": [
    "<img src=\"img/scraper.png\">"
   ]
  },
  {
   "cell_type": "markdown",
   "metadata": {},
   "source": [
    "- https://www.plannedparenthood.org/health-center/ak\n",
    "- https://www.plannedparenthood.org/health-center/al\n",
    "- https://www.plannedparenthood.org/health-center/ar\n",
    "- https://www.plannedparenthood.org/health-center/az\n",
    "- https://www.plannedparenthood.org/health-center/ca\n",
    "- https://www.plannedparenthood.org/health-center/co\n",
    "- https://www.plannedparenthood.org/health-center/ct\n",
    "- https://www.plannedparenthood.org/health-center/dc\n",
    "- https://www.plannedparenthood.org/health-center/de\n",
    "- https://www.plannedparenthood.org/health-center/fl\n",
    "- https://www.plannedparenthood.org/health-center/ga\n",
    "- https://www.plannedparenthood.org/health-center/hi\n",
    "- https://www.plannedparenthood.org/health-center/ia"
   ]
  },
  {
   "cell_type": "code",
   "execution_count": 18,
   "metadata": {},
   "outputs": [],
   "source": [
    " # Dependencies\n",
    "from bs4 import BeautifulSoup\n",
    "import requests\n",
    "import pprint\n",
    "import urllib.request as urllib2\n",
    "import csv\n",
    "import pandas as pd\n",
    "\n",
    "ul_lists = []\n",
    "state_codes = [\"AK\", \"AL\", \"AZ\", \"AR\", \"CA\", \"CO\", \"CT\", \"DC\", \"DE\", \"FL\", \"GA\", \"HI\", \"ID\", \"IL\", \"IN\", \"IA\", \"KS\", \"KY\", \"LA\", \"ME\", \"MD\", \"MA\", \"MI\", \"MN\", \"MS\", \"MO\", \"MT\", \"NE\", \"NV\", \"NH\", \"NJ\", \"NM\", \"NY\", \"NC\", \"ND\", \"OH\", \"OK\", \"OR\", \"PA\", \"RI\", \"SC\",\"SD\", \"TN\", \"TX\", \"UT\", \"VT\", \"VA\", \"WA\", \"WV\", \"WI\", \"WY\"]\n",
    "for state in state_codes:\n",
    "    state_url1 = (\"https://www.plannedparenthood.org/health-center/\")\n",
    "    state_ul = (state_url1 + state)\n",
    "    #print(state_ul)\n",
    "    response = requests.get(state_ul)\n",
    "    response.content\n",
    "    soup = BeautifulSoup(response.content, 'html.parser')\n",
    "    location_list = soup.findAll('span',{'class': 'address-region'})\n",
    "    ul_lists.append(location_list)\n",
    "\n",
    "    "
   ]
  },
  {
   "cell_type": "code",
   "execution_count": 19,
   "metadata": {},
   "outputs": [
    {
     "name": "stdout",
     "output_type": "stream",
     "text": [
      "[[<span class=\"address-region\">Anchorage, AK</span>, <span class=\"address-region\">Fairbanks, AK</span>, <span class=\"address-region\">Juneau, AK</span>, <span class=\"address-region\">Soldotna, AK</span>], [<span class=\"address-region\">Birmingham, AL</span>, <span class=\"address-region\">Mobile, AL</span>], [<span class=\"address-region\">Flagstaff, AZ</span>, <span class=\"address-region\">Glendale, AZ</span>, <span class=\"address-region\">Mesa, AZ</span>, <span class=\"address-region\">Phoenix, AZ</span>, <span class=\"address-region\">Phoenix, AZ</span>, <span class=\"address-region\">Tempe, AZ</span>, <span class=\"address-region\">Tucson, AZ</span>], [<span class=\"address-region\">Little Rock, AR</span>], [<span class=\"address-region\">Alhambra, CA</span>, <span class=\"address-region\">Anaheim, CA</span>, <span class=\"address-region\">Antioch, CA</span>, <span class=\"address-region\">Bakersfield, CA</span>, <span class=\"address-region\">Burbank, CA</span>, <span class=\"address-region\">Canoga Park, CA</span>, <span class=\"address-region\">Carson, CA</span>, <span class=\"address-region\">Chico, CA</span>, <span class=\"address-region\">Chula Vista, CA</span>, <span class=\"address-region\">Clearlake, CA</span>, <span class=\"address-region\">Coachella, CA</span>, <span class=\"address-region\">Compton, CA</span>, <span class=\"address-region\">Concord, CA</span>, <span class=\"address-region\">Corona, CA</span>, <span class=\"address-region\">Costa Mesa, CA</span>, <span class=\"address-region\">El Cajon, CA</span>, <span class=\"address-region\">El Centro, CA</span>, <span class=\"address-region\">El Cerrito, CA</span>, <span class=\"address-region\">El Monte, CA</span>, <span class=\"address-region\">Escondido, CA</span>, <span class=\"address-region\">Eureka, CA</span>, <span class=\"address-region\">Fairfield, CA</span>, <span class=\"address-region\">Fresno, CA</span>, <span class=\"address-region\">Fresno, CA</span>, <span class=\"address-region\">Gilroy, CA</span>, <span class=\"address-region\">Glendora, CA</span>, <span class=\"address-region\">Hayward, CA</span>, <span class=\"address-region\">Lakewood, CA</span>, <span class=\"address-region\">Lakewood, CA</span>, <span class=\"address-region\">Lawndale, CA</span>, <span class=\"address-region\">Long Beach, CA</span>, <span class=\"address-region\">Los Angeles, CA</span>, <span class=\"address-region\">Los Angeles, CA</span>, <span class=\"address-region\">Los Angeles, CA</span>, <span class=\"address-region\">Los Angeles, CA</span>, <span class=\"address-region\">Los Angeles, CA</span>, <span class=\"address-region\">Los Angeles, CA</span>, <span class=\"address-region\">Los Angeles, CA</span>, <span class=\"address-region\">Madera, CA</span>, <span class=\"address-region\">Manteca, CA</span>, <span class=\"address-region\">Merced, CA</span>, <span class=\"address-region\">Mission Viejo, CA</span>, <span class=\"address-region\">Modesto, CA</span>, <span class=\"address-region\">Moreno Valley, CA</span>, <span class=\"address-region\">Mountain View, CA</span>, <span class=\"address-region\">Napa, CA</span>, <span class=\"address-region\">North Highlands, CA</span>, <span class=\"address-region\">Oakland, CA</span>, <span class=\"address-region\">Oakland, CA</span>, <span class=\"address-region\">Orange, CA</span>, <span class=\"address-region\">Palmdale, CA</span>, <span class=\"address-region\">Pasadena, CA</span>, <span class=\"address-region\">Pomona, CA</span>, <span class=\"address-region\">Rancho Mirage, CA</span>, <span class=\"address-region\">Rancho Mirage, CA</span>, <span class=\"address-region\">Redding, CA</span>, <span class=\"address-region\">Redwood City, CA</span>, <span class=\"address-region\">Richmond, CA</span>, <span class=\"address-region\">Riverside, CA</span>, <span class=\"address-region\">Roseville, CA</span>, <span class=\"address-region\">Sacramento, CA</span>, <span class=\"address-region\">Sacramento, CA</span>, <span class=\"address-region\">Sacramento, CA</span>, <span class=\"address-region\">Salinas, CA</span>, <span class=\"address-region\">San Bernardino, CA</span>, <span class=\"address-region\">San Diego, CA</span>, <span class=\"address-region\">San Diego, CA</span>, <span class=\"address-region\">San Diego, CA</span>, <span class=\"address-region\">San Diego, CA</span>, <span class=\"address-region\">San Diego, CA</span>, <span class=\"address-region\">San Diego, CA</span>, <span class=\"address-region\">San Diego, CA</span>, <span class=\"address-region\">San Diego, CA</span>, <span class=\"address-region\">San Francisco, CA</span>, <span class=\"address-region\">San Francisco, CA</span>, <span class=\"address-region\">San Jose, CA</span>, <span class=\"address-region\">San Jose, CA</span>, <span class=\"address-region\">San Jose, CA</span>, <span class=\"address-region\">San Jose, CA</span>, <span class=\"address-region\">San Luis Obispo, CA</span>, <span class=\"address-region\">San Mateo, CA</span>, <span class=\"address-region\">San Rafael, CA</span>, <span class=\"address-region\">San Ramon, CA</span>, <span class=\"address-region\">Santa Ana, CA</span>, <span class=\"address-region\">Santa Barbara, CA</span>, <span class=\"address-region\">Santa Cruz, CA</span>, <span class=\"address-region\">Santa Maria, CA</span>, <span class=\"address-region\">Santa Monica, CA</span>, <span class=\"address-region\">Santa Rosa, CA</span>, <span class=\"address-region\">Seaside, CA</span>, <span class=\"address-region\">South San Francisco, CA</span>, <span class=\"address-region\">Stockton, CA</span>, <span class=\"address-region\">Stockton, CA</span>, <span class=\"address-region\">Thousand Oaks, CA</span>, <span class=\"address-region\">Tracy, CA</span>, <span class=\"address-region\">Ukiah, CA</span>, <span class=\"address-region\">Upland, CA</span>, <span class=\"address-region\">Vallejo, CA</span>, <span class=\"address-region\">Van Nuys, CA</span>, <span class=\"address-region\">Ventura, CA</span>, <span class=\"address-region\">Victorville, CA</span>, <span class=\"address-region\">Visalia, CA</span>, <span class=\"address-region\">Vista, CA</span>, <span class=\"address-region\">Walnut Creek, CA</span>, <span class=\"address-region\">Watsonville, CA</span>, <span class=\"address-region\">West Hollywood, CA</span>, <span class=\"address-region\">Westminster, CA</span>, <span class=\"address-region\">Whittier, CA</span>, <span class=\"address-region\">Woodland, CA</span>, <span class=\"address-region\">Yuba City, CA</span>], [<span class=\"address-region\">Alamosa, CO</span>, <span class=\"address-region\">Arvada, CO</span>, <span class=\"address-region\">Aurora, CO</span>, <span class=\"address-region\">Boulder, CO</span>, <span class=\"address-region\">Colorado Springs, CO</span>, <span class=\"address-region\">Cortez, CO</span>, <span class=\"address-region\">Denver, CO</span>, <span class=\"address-region\">Denver, CO</span>, <span class=\"address-region\">Denver, CO</span>, <span class=\"address-region\">Durango, CO</span>, <span class=\"address-region\">Fort Collins, CO</span>, <span class=\"address-region\">Glenwood Springs, CO</span>, <span class=\"address-region\">Granby, CO</span>, <span class=\"address-region\">Greeley, CO</span>, <span class=\"address-region\">Lakewood, CO</span>, <span class=\"address-region\">Littleton, CO</span>, <span class=\"address-region\">Salida, CO</span>, <span class=\"address-region\">Steamboat Springs, CO</span>], [<span class=\"address-region\">Bridgeport, CT</span>, <span class=\"address-region\">Danbury, CT</span>, <span class=\"address-region\">Danielson, CT</span>, <span class=\"address-region\">Enfield, CT</span>, <span class=\"address-region\">Hartford, CT</span>, <span class=\"address-region\">Manchester, CT</span>, <span class=\"address-region\">Meriden, CT</span>, <span class=\"address-region\">New Haven, CT</span>, <span class=\"address-region\">New London, CT</span>, <span class=\"address-region\">Norwich, CT</span>, <span class=\"address-region\">Old Saybrook, CT</span>, <span class=\"address-region\">Stamford, CT</span>, <span class=\"address-region\">Torrington, CT</span>, <span class=\"address-region\">Waterbury, CT</span>, <span class=\"address-region\">West Hartford, CT</span>, <span class=\"address-region\">Willimantic, CT</span>], [], [<span class=\"address-region\">Dover, DE</span>, <span class=\"address-region\">Newark, DE</span>, <span class=\"address-region\">Wilmington, DE</span>], [<span class=\"address-region\">Boca Raton, FL</span>, <span class=\"address-region\">Bradenton, FL</span>, <span class=\"address-region\">Fort Myers, FL</span>, <span class=\"address-region\">Gainesville, FL</span>, <span class=\"address-region\">Jacksonville, FL</span>, <span class=\"address-region\">Kissimmee, FL</span>, <span class=\"address-region\">Lakeland, FL</span>, <span class=\"address-region\">Miami, FL</span>, <span class=\"address-region\">Miami, FL</span>, <span class=\"address-region\">Miami, FL</span>, <span class=\"address-region\">Naples, FL</span>, <span class=\"address-region\">Orlando, FL</span>, <span class=\"address-region\">Pembroke Pines, FL</span>, <span class=\"address-region\">Saint Petersburg, FL</span>, <span class=\"address-region\">Sarasota, FL</span>, <span class=\"address-region\">Stuart, FL</span>, <span class=\"address-region\">Tallahassee, FL</span>, <span class=\"address-region\">Tampa, FL</span>, <span class=\"address-region\">Tampa, FL</span>, <span class=\"address-region\">Wellington, FL</span>, <span class=\"address-region\">West Palm Beach, FL</span>], [<span class=\"address-region\">Atlanta, GA</span>, <span class=\"address-region\">Lawrenceville, GA</span>, <span class=\"address-region\">Marietta, GA</span>, <span class=\"address-region\">Savannah, GA</span>], [<span class=\"address-region\">Honolulu, HI</span>, <span class=\"address-region\">Kahului, HI</span>], [<span class=\"address-region\">Boise, ID</span>, <span class=\"address-region\">Meridian, ID</span>, <span class=\"address-region\">Twin Falls, ID</span>], [<span class=\"address-region\">Aurora, IL</span>, <span class=\"address-region\">Bloomington, IL</span>, <span class=\"address-region\">Champaign, IL</span>, <span class=\"address-region\">Chicago, IL</span>, <span class=\"address-region\">Chicago, IL</span>, <span class=\"address-region\">Chicago, IL</span>, <span class=\"address-region\">Chicago, IL</span>, <span class=\"address-region\">Chicago, IL</span>, <span class=\"address-region\">Chicago, IL</span>, <span class=\"address-region\">Chicago, IL</span>, <span class=\"address-region\">Decatur, IL</span>, <span class=\"address-region\">Fairview Heights, IL</span>, <span class=\"address-region\">Flossmoor, IL</span>, <span class=\"address-region\">Orland Park, IL</span>, <span class=\"address-region\">Ottawa, IL</span>, <span class=\"address-region\">Pekin, IL</span>, <span class=\"address-region\">Peoria, IL</span>, <span class=\"address-region\">Springfield, IL</span>], [<span class=\"address-region\">Bloomington, IN</span>, <span class=\"address-region\">Columbus, IN</span>, <span class=\"address-region\">Elkhart, IN</span>, <span class=\"address-region\">Evansville, IN</span>, <span class=\"address-region\">Ft Wayne, IN</span>, <span class=\"address-region\">Gary, IN</span>, <span class=\"address-region\">Hammond, IN</span>, <span class=\"address-region\">Indianapolis, IN</span>, <span class=\"address-region\">Indianapolis, IN</span>, <span class=\"address-region\">Indianapolis, IN</span>, <span class=\"address-region\">Indianapolis, IN</span>, <span class=\"address-region\">Lafayette, IN</span>, <span class=\"address-region\">Merrillville, IN</span>, <span class=\"address-region\">Michigan City, IN</span>, <span class=\"address-region\">Mishawaka, IN</span>, <span class=\"address-region\">New Albany, IN</span>], [<span class=\"address-region\">Ames, IA</span>, <span class=\"address-region\">Cedar Falls, IA</span>, <span class=\"address-region\">Cedar Rapids, IA</span>, <span class=\"address-region\">Council Bluffs, IA</span>, <span class=\"address-region\">Des Moines, IA</span>, <span class=\"address-region\">Des Moines, IA</span>, <span class=\"address-region\">Iowa City, IA</span>, <span class=\"address-region\">Urbandale, IA</span>], [<span class=\"address-region\">Overland Park, KS</span>, <span class=\"address-region\">Wichita, KS</span>], [<span class=\"address-region\">Lexington, KY</span>, <span class=\"address-region\">Louisville, KY</span>], [<span class=\"address-region\">Baton Rouge, LA</span>, <span class=\"address-region\">New Orleans, LA</span>], [<span class=\"address-region\">Biddeford, ME</span>, <span class=\"address-region\">Portland, ME</span>, <span class=\"address-region\">Sanford, ME</span>, <span class=\"address-region\">Topsham, ME</span>], [<span class=\"address-region\">Annapolis, MD</span>, <span class=\"address-region\">Baltimore, MD</span>, <span class=\"address-region\">Easton, MD</span>, <span class=\"address-region\">Frederick, MD</span>, <span class=\"address-region\">Gaithersburg, MD</span>, <span class=\"address-region\">Owings Mills, MD</span>, <span class=\"address-region\">Suitland, MD</span>, <span class=\"address-region\">Towson, MD</span>, <span class=\"address-region\">Waldorf, MD</span>], [<span class=\"address-region\">Boston, MA</span>, <span class=\"address-region\">Marlborough, MA</span>, <span class=\"address-region\">Springfield, MA</span>, <span class=\"address-region\">Worcester, MA</span>], [<span class=\"address-region\">Ann Arbor, MI</span>, <span class=\"address-region\">Ann Arbor, MI</span>, <span class=\"address-region\">Big Rapids, MI</span>, <span class=\"address-region\">Detroit, MI</span>, <span class=\"address-region\">Detroit, MI</span>, <span class=\"address-region\">Ferndale, MI</span>, <span class=\"address-region\">Flint, MI</span>, <span class=\"address-region\">Grand Rapids, MI</span>, <span class=\"address-region\">Jackson, MI</span>, <span class=\"address-region\">Kalamazoo, MI</span>, <span class=\"address-region\">Lansing, MI</span>, <span class=\"address-region\">Livonia, MI</span>, <span class=\"address-region\">Marquette, MI</span>, <span class=\"address-region\">Petoskey, MI</span>, <span class=\"address-region\">Traverse City, MI</span>, <span class=\"address-region\">Warren, MI</span>], [<span class=\"address-region\">Alexandria, MN</span>, <span class=\"address-region\">Apple Valley, MN</span>, <span class=\"address-region\">Bemidji, MN</span>, <span class=\"address-region\">Brooklyn Park, MN</span>, <span class=\"address-region\">Duluth, MN</span>, <span class=\"address-region\">Eden Prairie, MN</span>, <span class=\"address-region\">Grand Rapids, MN</span>, <span class=\"address-region\">Mankato, MN</span>, <span class=\"address-region\">Minneapolis, MN</span>, <span class=\"address-region\">Moorhead, MN</span>, <span class=\"address-region\">Richfield, MN</span>, <span class=\"address-region\">Rochester, MN</span>, <span class=\"address-region\">Saint Cloud, MN</span>, <span class=\"address-region\">Saint Paul, MN</span>, <span class=\"address-region\">Saint Paul, MN</span>, <span class=\"address-region\">Virginia, MN</span>, <span class=\"address-region\">Willmar, MN</span>, <span class=\"address-region\">Woodbury, MN</span>], [<span class=\"address-region\">Hattiesburg, MS</span>], [<span class=\"address-region\">Columbia, MO</span>, <span class=\"address-region\">Florissant, MO</span>, <span class=\"address-region\">Gladstone, MO</span>, <span class=\"address-region\">Independence, MO</span>, <span class=\"address-region\">Joplin, MO</span>, <span class=\"address-region\">Kansas City, MO</span>, <span class=\"address-region\">Manchester, MO</span>, <span class=\"address-region\">Saint Louis, MO</span>, <span class=\"address-region\">Saint Louis, MO</span>, <span class=\"address-region\">Saint Louis, MO</span>, <span class=\"address-region\">Saint Peters, MO</span>, <span class=\"address-region\">Springfield, MO</span>], [<span class=\"address-region\">Billings, MT</span>, <span class=\"address-region\">Billings, MT</span>, <span class=\"address-region\">Great Falls, MT</span>, <span class=\"address-region\">Helena, MT</span>, <span class=\"address-region\">Missoula, MT</span>], [<span class=\"address-region\">Lincoln, NE</span>, <span class=\"address-region\">Omaha, NE</span>], [<span class=\"address-region\">Las Vegas, NV</span>, <span class=\"address-region\">Las Vegas, NV</span>, <span class=\"address-region\">Reno, NV</span>], [<span class=\"address-region\">Claremont, NH</span>, <span class=\"address-region\">Derry, NH</span>, <span class=\"address-region\">Exeter, NH</span>, <span class=\"address-region\">Keene, NH</span>, <span class=\"address-region\">Manchester, NH</span>], [<span class=\"address-region\">Bellmawr, NJ</span>, <span class=\"address-region\">Camden, NJ</span>, <span class=\"address-region\">Delran, NJ</span>, <span class=\"address-region\">East Orange, NJ</span>, <span class=\"address-region\">Elizabeth, NJ</span>, <span class=\"address-region\">Englewood, NJ</span>, <span class=\"address-region\">Flemington, NJ</span>, <span class=\"address-region\">Freehold, NJ</span>, <span class=\"address-region\">Hackensack, NJ</span>, <span class=\"address-region\">Hamilton Square, NJ</span>, <span class=\"address-region\">Montclair, NJ</span>, <span class=\"address-region\">Morristown, NJ</span>, <span class=\"address-region\">Newark, NJ</span>, <span class=\"address-region\">Newark, NJ</span>, <span class=\"address-region\">New Brunswick, NJ</span>, <span class=\"address-region\">Newton, NJ</span>, <span class=\"address-region\">Paterson, NJ</span>, <span class=\"address-region\">Perth Amboy, NJ</span>, <span class=\"address-region\">Pomona, NJ</span>, <span class=\"address-region\">Shrewsbury, NJ</span>, <span class=\"address-region\">Trenton, NJ</span>, <span class=\"address-region\">Washington, NJ</span>], [<span class=\"address-region\">Albuquerque, NM</span>, <span class=\"address-region\">Albuquerque, NM</span>, <span class=\"address-region\">Farmington, NM</span>, <span class=\"address-region\">Santa Fe, NM</span>], [<span class=\"address-region\">Albany, NY</span>, <span class=\"address-region\">Amsterdam, NY</span>, <span class=\"address-region\">Batavia, NY</span>, <span class=\"address-region\">Bronx, NY</span>, <span class=\"address-region\">Brooklyn, NY</span>, <span class=\"address-region\">Buffalo, NY</span>, <span class=\"address-region\">Canandaigua, NY</span>, <span class=\"address-region\">Canton, NY</span>, <span class=\"address-region\">Clifton Park, NY</span>, <span class=\"address-region\">Cobleskill, NY</span>, <span class=\"address-region\">Corning, NY</span>, <span class=\"address-region\">Elmira, NY</span>, <span class=\"address-region\">Glen Cove, NY</span>, <span class=\"address-region\">Goshen, NY</span>, <span class=\"address-region\">Hempstead, NY</span>, <span class=\"address-region\">Hornell, NY</span>, <span class=\"address-region\">Hudson, NY</span>, <span class=\"address-region\">Huntington, NY</span>, <span class=\"address-region\">Ithaca, NY</span>, <span class=\"address-region\">Johnstown, NY</span>, <span class=\"address-region\">Kingston, NY</span>, <span class=\"address-region\">Lowville, NY</span>, <span class=\"address-region\">Malone, NY</span>, <span class=\"address-region\">Massapequa, NY</span>, <span class=\"address-region\">Monticello, NY</span>, <span class=\"address-region\">Mount Vernon, NY</span>, <span class=\"address-region\">Newburgh, NY</span>, <span class=\"address-region\">New Rochelle, NY</span>, <span class=\"address-region\">New York, NY</span>, <span class=\"address-region\">Niagara Falls, NY</span>, <span class=\"address-region\">North Tonawanda, NY</span>, <span class=\"address-region\">Ogdensburg, NY</span>, <span class=\"address-region\">Oneida, NY</span>, <span class=\"address-region\">Patchogue, NY</span>, <span class=\"address-region\">Plattsburgh, NY</span>, <span class=\"address-region\">Poughkeepsie, NY</span>, <span class=\"address-region\">Queens, NY</span>, <span class=\"address-region\">Queensbury, NY</span>, <span class=\"address-region\">Riverhead, NY</span>, <span class=\"address-region\">Rochester, NY</span>, <span class=\"address-region\">Rochester, NY</span>, <span class=\"address-region\">Rome, NY</span>, <span class=\"address-region\">Saranac Lake, NY</span>, <span class=\"address-region\">Saratoga Springs, NY</span>, <span class=\"address-region\">Schenectady, NY</span>, <span class=\"address-region\">Smithtown, NY</span>, <span class=\"address-region\">Spring Valley, NY</span>, <span class=\"address-region\">Staten Island, NY</span>, <span class=\"address-region\">Syracuse, NY</span>, <span class=\"address-region\">Troy, NY</span>, <span class=\"address-region\">Utica, NY</span>, <span class=\"address-region\">Watertown, NY</span>, <span class=\"address-region\">Watkins Glen, NY</span>, <span class=\"address-region\">West Islip, NY</span>, <span class=\"address-region\">West Seneca, NY</span>, <span class=\"address-region\">White Plains, NY</span>, <span class=\"address-region\">Yonkers, NY</span>], [<span class=\"address-region\">Asheville, NC</span>, <span class=\"address-region\">Chapel Hill, NC</span>, <span class=\"address-region\">Charlotte, NC</span>, <span class=\"address-region\">Durham, NC</span>, <span class=\"address-region\">Fayetteville, NC</span>, <span class=\"address-region\">Greensboro, NC</span>, <span class=\"address-region\">Raleigh, NC</span>, <span class=\"address-region\">Wilmington, NC</span>, <span class=\"address-region\">Winston-Salem, NC</span>], [], [<span class=\"address-region\">Akron, OH</span>, <span class=\"address-region\">Athens, OH</span>, <span class=\"address-region\">Bedford Heights, OH</span>, <span class=\"address-region\">Bedford Heights, OH</span>, <span class=\"address-region\">Canton, OH</span>, <span class=\"address-region\">Cincinnati, OH</span>, <span class=\"address-region\">Cincinnati, OH</span>, <span class=\"address-region\">Cleveland, OH</span>, <span class=\"address-region\">Cleveland, OH</span>, <span class=\"address-region\">Columbus, OH</span>, <span class=\"address-region\">Columbus, OH</span>, <span class=\"address-region\">Columbus, OH</span>, <span class=\"address-region\">Dayton, OH</span>, <span class=\"address-region\">Hamilton, OH</span>, <span class=\"address-region\">Kent, OH</span>, <span class=\"address-region\">Lorain, OH</span>, <span class=\"address-region\">Mansfield, OH</span>, <span class=\"address-region\">Medina, OH</span>, <span class=\"address-region\">Rocky River, OH</span>, <span class=\"address-region\">Springfield, OH</span>, <span class=\"address-region\">Toledo, OH</span>, <span class=\"address-region\">Warren, OH</span>, <span class=\"address-region\">Wooster, OH</span>, <span class=\"address-region\">Youngstown, OH</span>], [<span class=\"address-region\">Edmond, OK</span>, <span class=\"address-region\">Oklahoma City, OK</span>, <span class=\"address-region\">Tulsa, OK</span>, <span class=\"address-region\">Tulsa, OK</span>], [<span class=\"address-region\">Ashland, OR</span>, <span class=\"address-region\">Beaverton, OR</span>, <span class=\"address-region\">Bend, OR</span>, <span class=\"address-region\">Eugene, OR</span>, <span class=\"address-region\">Eugene, OR</span>, <span class=\"address-region\">Grants Pass, OR</span>, <span class=\"address-region\">Medford, OR</span>, <span class=\"address-region\">Milwaukie, OR</span>, <span class=\"address-region\">Portland, OR</span>, <span class=\"address-region\">Portland, OR</span>, <span class=\"address-region\">Salem, OR</span>], [<span class=\"address-region\">Allentown, PA</span>, <span class=\"address-region\">Bensalem, PA</span>, <span class=\"address-region\">Bridgeville, PA</span>, <span class=\"address-region\">Coatesville, PA</span>, <span class=\"address-region\">Greensburg, PA</span>, <span class=\"address-region\">Harrisburg, PA</span>, <span class=\"address-region\">Johnstown, PA</span>, <span class=\"address-region\">Lancaster, PA</span>, <span class=\"address-region\">Media, PA</span>, <span class=\"address-region\">Moon Township, PA</span>, <span class=\"address-region\">Norristown, PA</span>, <span class=\"address-region\">Norristown, PA</span>, <span class=\"address-region\">Philadelphia, PA</span>, <span class=\"address-region\">Philadelphia, PA</span>, <span class=\"address-region\">Philadelphia, PA</span>, <span class=\"address-region\">Philadelphia, PA</span>, <span class=\"address-region\">Pittsburgh, PA</span>, <span class=\"address-region\">Pittsburgh, PA</span>, <span class=\"address-region\">Pottstown, PA</span>, <span class=\"address-region\">Quakertown, PA</span>, <span class=\"address-region\">Reading, PA</span>, <span class=\"address-region\">Somerset, PA</span>, <span class=\"address-region\">Upper Darby, PA</span>, <span class=\"address-region\">Warminster, PA</span>, <span class=\"address-region\">West Chester, PA</span>, <span class=\"address-region\">West Chester, PA</span>, <span class=\"address-region\">Wilkes-Barre, PA</span>, <span class=\"address-region\">York, PA</span>], [<span class=\"address-region\">Providence, RI</span>], [<span class=\"address-region\">Charleston, SC</span>, <span class=\"address-region\">Columbia, SC</span>], [<span class=\"address-region\">Sioux Falls, SD</span>], [<span class=\"address-region\">Knoxville, TN</span>, <span class=\"address-region\">Memphis, TN</span>, <span class=\"address-region\">Memphis, TN</span>, <span class=\"address-region\">Nashville, TN</span>], [<span class=\"address-region\">Addison, TX</span>, <span class=\"address-region\">Arlington, TX</span>, <span class=\"address-region\">Austin, TX</span>, <span class=\"address-region\">Austin, TX</span>, <span class=\"address-region\">Austin, TX</span>, <span class=\"address-region\">Austin, TX</span>, <span class=\"address-region\">Austin, TX</span>, <span class=\"address-region\">Bedford, TX</span>, <span class=\"address-region\">Brownsville, TX</span>, <span class=\"address-region\">Cedar Hill, TX</span>, <span class=\"address-region\">Dallas, TX</span>, <span class=\"address-region\">Dallas, TX</span>, <span class=\"address-region\">Denton, TX</span>, <span class=\"address-region\">El Paso, TX</span>, <span class=\"address-region\">El Paso, TX</span>, <span class=\"address-region\">Fort Worth, TX</span>, <span class=\"address-region\">Fort Worth, TX</span>, <span class=\"address-region\">Fort Worth, TX</span>, <span class=\"address-region\">Harlingen, TX</span>, <span class=\"address-region\">Houston, TX</span>, <span class=\"address-region\">Houston, TX</span>, <span class=\"address-region\">Houston, TX</span>, <span class=\"address-region\">Houston, TX</span>, <span class=\"address-region\">Houston, TX</span>, <span class=\"address-region\">Lewisville, TX</span>, <span class=\"address-region\">Mesquite, TX</span>, <span class=\"address-region\">Paris, TX</span>, <span class=\"address-region\">Plano, TX</span>, <span class=\"address-region\">San Antonio, TX</span>, <span class=\"address-region\">San Antonio, TX</span>, <span class=\"address-region\">San Antonio, TX</span>, <span class=\"address-region\">San Antonio, TX</span>, <span class=\"address-region\">San Antonio, TX</span>, <span class=\"address-region\">San Antonio, TX</span>, <span class=\"address-region\">Spring, TX</span>, <span class=\"address-region\">Stafford, TX</span>, <span class=\"address-region\">Stafford, TX</span>, <span class=\"address-region\">Tyler, TX</span>, <span class=\"address-region\">Waco, TX</span>, <span class=\"address-region\">Waco, TX</span>], [<span class=\"address-region\">Logan, UT</span>, <span class=\"address-region\">Ogden, UT</span>, <span class=\"address-region\">Orem, UT</span>, <span class=\"address-region\">Saint George, UT</span>, <span class=\"address-region\">Salt Lake City, UT</span>, <span class=\"address-region\">Salt Lake City, UT</span>, <span class=\"address-region\">South Jordan, UT</span>, <span class=\"address-region\">West Valley City, UT</span>], [<span class=\"address-region\">Barre, VT</span>, <span class=\"address-region\">Bennington, VT</span>, <span class=\"address-region\">Brattleboro, VT</span>, <span class=\"address-region\">Burlington, VT</span>, <span class=\"address-region\">Hyde Park, VT</span>, <span class=\"address-region\">Middlebury, VT</span>, <span class=\"address-region\">Newport, VT</span>, <span class=\"address-region\">Rutland, VT</span>, <span class=\"address-region\">Saint Albans, VT</span>, <span class=\"address-region\">Saint Johnsbury, VT</span>, <span class=\"address-region\">White River Junction, VT</span>, <span class=\"address-region\">Williston, VT</span>], [<span class=\"address-region\">Charlottesville, VA</span>, <span class=\"address-region\">Hampton, VA</span>, <span class=\"address-region\">Richmond, VA</span>, <span class=\"address-region\">Roanoke, VA</span>, <span class=\"address-region\">Virginia Beach, VA</span>], [<span class=\"address-region\">Bellevue, WA</span>, <span class=\"address-region\">Bellingham, WA</span>, <span class=\"address-region\">Bremerton, WA</span>, <span class=\"address-region\">Centralia, WA</span>, <span class=\"address-region\">Ellensburg, WA</span>, <span class=\"address-region\">Everett, WA</span>, <span class=\"address-region\">Federal Way, WA</span>, <span class=\"address-region\">Friday Harbor, WA</span>, <span class=\"address-region\">Kennewick, WA</span>, <span class=\"address-region\">Kent, WA</span>, <span class=\"address-region\">Lynnwood, WA</span>, <span class=\"address-region\">Marysville, WA</span>, <span class=\"address-region\">Moses Lake, WA</span>, <span class=\"address-region\">Mount Vernon, WA</span>, <span class=\"address-region\">Olympia, WA</span>, <span class=\"address-region\">Pasco, WA</span>, <span class=\"address-region\">Port Angeles, WA</span>, <span class=\"address-region\">Pullman, WA</span>, <span class=\"address-region\">Puyallup, WA</span>, <span class=\"address-region\">Seattle, WA</span>, <span class=\"address-region\">Seattle, WA</span>, <span class=\"address-region\">Seattle, WA</span>, <span class=\"address-region\">Seattle, WA</span>, <span class=\"address-region\">Seattle, WA</span>, <span class=\"address-region\">Shelton, WA</span>, <span class=\"address-region\">Spokane, WA</span>, <span class=\"address-region\">Spokane Valley, WA</span>, <span class=\"address-region\">Sunnyside, WA</span>, <span class=\"address-region\">Tacoma, WA</span>, <span class=\"address-region\">Vancouver, WA</span>, <span class=\"address-region\">Walla Walla, WA</span>, <span class=\"address-region\">Wenatchee, WA</span>, <span class=\"address-region\">Yakima, WA</span>], [<span class=\"address-region\">Vienna, WV</span>], [<span class=\"address-region\">Appleton, WI</span>, <span class=\"address-region\">Blair, WI</span>, <span class=\"address-region\">Delavan, WI</span>, <span class=\"address-region\">Eau Claire, WI</span>, <span class=\"address-region\">Green Bay, WI</span>, <span class=\"address-region\">Kenosha, WI</span>, <span class=\"address-region\">La Crosse, WI</span>, <span class=\"address-region\">Madison, WI</span>, <span class=\"address-region\">Madison, WI</span>, <span class=\"address-region\">Manitowoc, WI</span>, <span class=\"address-region\">Milwaukee, WI</span>, <span class=\"address-region\">Milwaukee, WI</span>, <span class=\"address-region\">Milwaukee, WI</span>, <span class=\"address-region\">Milwaukee, WI</span>, <span class=\"address-region\">Milwaukee, WI</span>, <span class=\"address-region\">Oshkosh, WI</span>, <span class=\"address-region\">Portage, WI</span>, <span class=\"address-region\">Racine, WI</span>, <span class=\"address-region\">Sheboygan, WI</span>, <span class=\"address-region\">Sparta, WI</span>, <span class=\"address-region\">Waukesha, WI</span>, <span class=\"address-region\">West Allis, WI</span>, <span class=\"address-region\">West Bend, WI</span>, <span class=\"address-region\">Wisconsin Rapids, WI</span>], []]\n"
     ]
    }
   ],
   "source": [
    "#print ul_lists\n",
    "print(ul_lists)"
   ]
  },
  {
   "cell_type": "code",
   "execution_count": 20,
   "metadata": {},
   "outputs": [
    {
     "name": "stdout",
     "output_type": "stream",
     "text": [
      "['Anchorage, AK', 'Fairbanks, AK', 'Juneau, AK', 'Soldotna, AK', 'Birmingham, AL', 'Mobile, AL', 'Flagstaff, AZ', 'Glendale, AZ', 'Mesa, AZ', 'Phoenix, AZ', 'Phoenix, AZ', 'Tempe, AZ', 'Tucson, AZ', 'Little Rock, AR', 'Alhambra, CA', 'Anaheim, CA', 'Antioch, CA', 'Bakersfield, CA', 'Burbank, CA', 'Canoga Park, CA', 'Carson, CA', 'Chico, CA', 'Chula Vista, CA', 'Clearlake, CA', 'Coachella, CA', 'Compton, CA', 'Concord, CA', 'Corona, CA', 'Costa Mesa, CA', 'El Cajon, CA', 'El Centro, CA', 'El Cerrito, CA', 'El Monte, CA', 'Escondido, CA', 'Eureka, CA', 'Fairfield, CA', 'Fresno, CA', 'Fresno, CA', 'Gilroy, CA', 'Glendora, CA', 'Hayward, CA', 'Lakewood, CA', 'Lakewood, CA', 'Lawndale, CA', 'Long Beach, CA', 'Los Angeles, CA', 'Los Angeles, CA', 'Los Angeles, CA', 'Los Angeles, CA', 'Los Angeles, CA', 'Los Angeles, CA', 'Los Angeles, CA', 'Madera, CA', 'Manteca, CA', 'Merced, CA', 'Mission Viejo, CA', 'Modesto, CA', 'Moreno Valley, CA', 'Mountain View, CA', 'Napa, CA', 'North Highlands, CA', 'Oakland, CA', 'Oakland, CA', 'Orange, CA', 'Palmdale, CA', 'Pasadena, CA', 'Pomona, CA', 'Rancho Mirage, CA', 'Rancho Mirage, CA', 'Redding, CA', 'Redwood City, CA', 'Richmond, CA', 'Riverside, CA', 'Roseville, CA', 'Sacramento, CA', 'Sacramento, CA', 'Sacramento, CA', 'Salinas, CA', 'San Bernardino, CA', 'San Diego, CA', 'San Diego, CA', 'San Diego, CA', 'San Diego, CA', 'San Diego, CA', 'San Diego, CA', 'San Diego, CA', 'San Diego, CA', 'San Francisco, CA', 'San Francisco, CA', 'San Jose, CA', 'San Jose, CA', 'San Jose, CA', 'San Jose, CA', 'San Luis Obispo, CA', 'San Mateo, CA', 'San Rafael, CA', 'San Ramon, CA', 'Santa Ana, CA', 'Santa Barbara, CA', 'Santa Cruz, CA', 'Santa Maria, CA', 'Santa Monica, CA', 'Santa Rosa, CA', 'Seaside, CA', 'South San Francisco, CA', 'Stockton, CA', 'Stockton, CA', 'Thousand Oaks, CA', 'Tracy, CA', 'Ukiah, CA', 'Upland, CA', 'Vallejo, CA', 'Van Nuys, CA', 'Ventura, CA', 'Victorville, CA', 'Visalia, CA', 'Vista, CA', 'Walnut Creek, CA', 'Watsonville, CA', 'West Hollywood, CA', 'Westminster, CA', 'Whittier, CA', 'Woodland, CA', 'Yuba City, CA', 'Alamosa, CO', 'Arvada, CO', 'Aurora, CO', 'Boulder, CO', 'Colorado Springs, CO', 'Cortez, CO', 'Denver, CO', 'Denver, CO', 'Denver, CO', 'Durango, CO', 'Fort Collins, CO', 'Glenwood Springs, CO', 'Granby, CO', 'Greeley, CO', 'Lakewood, CO', 'Littleton, CO', 'Salida, CO', 'Steamboat Springs, CO', 'Bridgeport, CT', 'Danbury, CT', 'Danielson, CT', 'Enfield, CT', 'Hartford, CT', 'Manchester, CT', 'Meriden, CT', 'New Haven, CT', 'New London, CT', 'Norwich, CT', 'Old Saybrook, CT', 'Stamford, CT', 'Torrington, CT', 'Waterbury, CT', 'West Hartford, CT', 'Willimantic, CT', 'Dover, DE', 'Newark, DE', 'Wilmington, DE', 'Boca Raton, FL', 'Bradenton, FL', 'Fort Myers, FL', 'Gainesville, FL', 'Jacksonville, FL', 'Kissimmee, FL', 'Lakeland, FL', 'Miami, FL', 'Miami, FL', 'Miami, FL', 'Naples, FL', 'Orlando, FL', 'Pembroke Pines, FL', 'Saint Petersburg, FL', 'Sarasota, FL', 'Stuart, FL', 'Tallahassee, FL', 'Tampa, FL', 'Tampa, FL', 'Wellington, FL', 'West Palm Beach, FL', 'Atlanta, GA', 'Lawrenceville, GA', 'Marietta, GA', 'Savannah, GA', 'Honolulu, HI', 'Kahului, HI', 'Boise, ID', 'Meridian, ID', 'Twin Falls, ID', 'Aurora, IL', 'Bloomington, IL', 'Champaign, IL', 'Chicago, IL', 'Chicago, IL', 'Chicago, IL', 'Chicago, IL', 'Chicago, IL', 'Chicago, IL', 'Chicago, IL', 'Decatur, IL', 'Fairview Heights, IL', 'Flossmoor, IL', 'Orland Park, IL', 'Ottawa, IL', 'Pekin, IL', 'Peoria, IL', 'Springfield, IL', 'Bloomington, IN', 'Columbus, IN', 'Elkhart, IN', 'Evansville, IN', 'Ft Wayne, IN', 'Gary, IN', 'Hammond, IN', 'Indianapolis, IN', 'Indianapolis, IN', 'Indianapolis, IN', 'Indianapolis, IN', 'Lafayette, IN', 'Merrillville, IN', 'Michigan City, IN', 'Mishawaka, IN', 'New Albany, IN', 'Ames, IA', 'Cedar Falls, IA', 'Cedar Rapids, IA', 'Council Bluffs, IA', 'Des Moines, IA', 'Des Moines, IA', 'Iowa City, IA', 'Urbandale, IA', 'Overland Park, KS', 'Wichita, KS', 'Lexington, KY', 'Louisville, KY', 'Baton Rouge, LA', 'New Orleans, LA', 'Biddeford, ME', 'Portland, ME', 'Sanford, ME', 'Topsham, ME', 'Annapolis, MD', 'Baltimore, MD', 'Easton, MD', 'Frederick, MD', 'Gaithersburg, MD', 'Owings Mills, MD', 'Suitland, MD', 'Towson, MD', 'Waldorf, MD', 'Boston, MA', 'Marlborough, MA', 'Springfield, MA', 'Worcester, MA', 'Ann Arbor, MI', 'Ann Arbor, MI', 'Big Rapids, MI', 'Detroit, MI', 'Detroit, MI', 'Ferndale, MI', 'Flint, MI', 'Grand Rapids, MI', 'Jackson, MI', 'Kalamazoo, MI', 'Lansing, MI', 'Livonia, MI', 'Marquette, MI', 'Petoskey, MI', 'Traverse City, MI', 'Warren, MI', 'Alexandria, MN', 'Apple Valley, MN', 'Bemidji, MN', 'Brooklyn Park, MN', 'Duluth, MN', 'Eden Prairie, MN', 'Grand Rapids, MN', 'Mankato, MN', 'Minneapolis, MN', 'Moorhead, MN', 'Richfield, MN', 'Rochester, MN', 'Saint Cloud, MN', 'Saint Paul, MN', 'Saint Paul, MN', 'Virginia, MN', 'Willmar, MN', 'Woodbury, MN', 'Hattiesburg, MS', 'Columbia, MO', 'Florissant, MO', 'Gladstone, MO', 'Independence, MO', 'Joplin, MO', 'Kansas City, MO', 'Manchester, MO', 'Saint Louis, MO', 'Saint Louis, MO', 'Saint Louis, MO', 'Saint Peters, MO', 'Springfield, MO', 'Billings, MT', 'Billings, MT', 'Great Falls, MT', 'Helena, MT', 'Missoula, MT', 'Lincoln, NE', 'Omaha, NE', 'Las Vegas, NV', 'Las Vegas, NV', 'Reno, NV', 'Claremont, NH', 'Derry, NH', 'Exeter, NH', 'Keene, NH', 'Manchester, NH', 'Bellmawr, NJ', 'Camden, NJ', 'Delran, NJ', 'East Orange, NJ', 'Elizabeth, NJ', 'Englewood, NJ', 'Flemington, NJ', 'Freehold, NJ', 'Hackensack, NJ', 'Hamilton Square, NJ', 'Montclair, NJ', 'Morristown, NJ', 'Newark, NJ', 'Newark, NJ', 'New Brunswick, NJ', 'Newton, NJ', 'Paterson, NJ', 'Perth Amboy, NJ', 'Pomona, NJ', 'Shrewsbury, NJ', 'Trenton, NJ', 'Washington, NJ', 'Albuquerque, NM', 'Albuquerque, NM', 'Farmington, NM', 'Santa Fe, NM', 'Albany, NY', 'Amsterdam, NY', 'Batavia, NY', 'Bronx, NY', 'Brooklyn, NY', 'Buffalo, NY', 'Canandaigua, NY', 'Canton, NY', 'Clifton Park, NY', 'Cobleskill, NY', 'Corning, NY', 'Elmira, NY', 'Glen Cove, NY', 'Goshen, NY', 'Hempstead, NY', 'Hornell, NY', 'Hudson, NY', 'Huntington, NY', 'Ithaca, NY', 'Johnstown, NY', 'Kingston, NY', 'Lowville, NY', 'Malone, NY', 'Massapequa, NY', 'Monticello, NY', 'Mount Vernon, NY', 'Newburgh, NY', 'New Rochelle, NY', 'New York, NY', 'Niagara Falls, NY', 'North Tonawanda, NY', 'Ogdensburg, NY', 'Oneida, NY', 'Patchogue, NY', 'Plattsburgh, NY', 'Poughkeepsie, NY', 'Queens, NY', 'Queensbury, NY', 'Riverhead, NY', 'Rochester, NY', 'Rochester, NY', 'Rome, NY', 'Saranac Lake, NY', 'Saratoga Springs, NY', 'Schenectady, NY', 'Smithtown, NY', 'Spring Valley, NY', 'Staten Island, NY', 'Syracuse, NY', 'Troy, NY', 'Utica, NY', 'Watertown, NY', 'Watkins Glen, NY', 'West Islip, NY', 'West Seneca, NY', 'White Plains, NY', 'Yonkers, NY', 'Asheville, NC', 'Chapel Hill, NC', 'Charlotte, NC', 'Durham, NC', 'Fayetteville, NC', 'Greensboro, NC', 'Raleigh, NC', 'Wilmington, NC', 'Winston-Salem, NC', 'Akron, OH', 'Athens, OH', 'Bedford Heights, OH', 'Bedford Heights, OH', 'Canton, OH', 'Cincinnati, OH', 'Cincinnati, OH', 'Cleveland, OH', 'Cleveland, OH', 'Columbus, OH', 'Columbus, OH', 'Columbus, OH', 'Dayton, OH', 'Hamilton, OH', 'Kent, OH', 'Lorain, OH', 'Mansfield, OH', 'Medina, OH', 'Rocky River, OH', 'Springfield, OH', 'Toledo, OH', 'Warren, OH', 'Wooster, OH', 'Youngstown, OH', 'Edmond, OK', 'Oklahoma City, OK', 'Tulsa, OK', 'Tulsa, OK', 'Ashland, OR', 'Beaverton, OR', 'Bend, OR', 'Eugene, OR', 'Eugene, OR', 'Grants Pass, OR', 'Medford, OR', 'Milwaukie, OR', 'Portland, OR', 'Portland, OR', 'Salem, OR', 'Allentown, PA', 'Bensalem, PA', 'Bridgeville, PA', 'Coatesville, PA', 'Greensburg, PA', 'Harrisburg, PA', 'Johnstown, PA', 'Lancaster, PA', 'Media, PA', 'Moon Township, PA', 'Norristown, PA', 'Norristown, PA', 'Philadelphia, PA', 'Philadelphia, PA', 'Philadelphia, PA', 'Philadelphia, PA', 'Pittsburgh, PA', 'Pittsburgh, PA', 'Pottstown, PA', 'Quakertown, PA', 'Reading, PA', 'Somerset, PA', 'Upper Darby, PA', 'Warminster, PA', 'West Chester, PA', 'West Chester, PA', 'Wilkes-Barre, PA', 'York, PA', 'Providence, RI', 'Charleston, SC', 'Columbia, SC', 'Sioux Falls, SD', 'Knoxville, TN', 'Memphis, TN', 'Memphis, TN', 'Nashville, TN', 'Addison, TX', 'Arlington, TX', 'Austin, TX', 'Austin, TX', 'Austin, TX', 'Austin, TX', 'Austin, TX', 'Bedford, TX', 'Brownsville, TX', 'Cedar Hill, TX', 'Dallas, TX', 'Dallas, TX', 'Denton, TX', 'El Paso, TX', 'El Paso, TX', 'Fort Worth, TX', 'Fort Worth, TX', 'Fort Worth, TX', 'Harlingen, TX', 'Houston, TX', 'Houston, TX', 'Houston, TX', 'Houston, TX', 'Houston, TX', 'Lewisville, TX', 'Mesquite, TX', 'Paris, TX', 'Plano, TX', 'San Antonio, TX', 'San Antonio, TX', 'San Antonio, TX', 'San Antonio, TX', 'San Antonio, TX', 'San Antonio, TX', 'Spring, TX', 'Stafford, TX', 'Stafford, TX', 'Tyler, TX', 'Waco, TX', 'Waco, TX', 'Logan, UT', 'Ogden, UT', 'Orem, UT', 'Saint George, UT', 'Salt Lake City, UT', 'Salt Lake City, UT', 'South Jordan, UT', 'West Valley City, UT', 'Barre, VT', 'Bennington, VT', 'Brattleboro, VT', 'Burlington, VT', 'Hyde Park, VT', 'Middlebury, VT', 'Newport, VT', 'Rutland, VT', 'Saint Albans, VT', 'Saint Johnsbury, VT', 'White River Junction, VT', 'Williston, VT', 'Charlottesville, VA', 'Hampton, VA', 'Richmond, VA', 'Roanoke, VA', 'Virginia Beach, VA', 'Bellevue, WA', 'Bellingham, WA', 'Bremerton, WA', 'Centralia, WA', 'Ellensburg, WA', 'Everett, WA', 'Federal Way, WA', 'Friday Harbor, WA', 'Kennewick, WA', 'Kent, WA', 'Lynnwood, WA', 'Marysville, WA', 'Moses Lake, WA', 'Mount Vernon, WA', 'Olympia, WA', 'Pasco, WA', 'Port Angeles, WA', 'Pullman, WA', 'Puyallup, WA', 'Seattle, WA', 'Seattle, WA', 'Seattle, WA', 'Seattle, WA', 'Seattle, WA', 'Shelton, WA', 'Spokane, WA', 'Spokane Valley, WA', 'Sunnyside, WA', 'Tacoma, WA', 'Vancouver, WA', 'Walla Walla, WA', 'Wenatchee, WA', 'Yakima, WA', 'Vienna, WV', 'Appleton, WI', 'Blair, WI', 'Delavan, WI', 'Eau Claire, WI', 'Green Bay, WI', 'Kenosha, WI', 'La Crosse, WI', 'Madison, WI', 'Madison, WI', 'Manitowoc, WI', 'Milwaukee, WI', 'Milwaukee, WI', 'Milwaukee, WI', 'Milwaukee, WI', 'Milwaukee, WI', 'Oshkosh, WI', 'Portage, WI', 'Racine, WI', 'Sheboygan, WI', 'Sparta, WI', 'Waukesha, WI', 'West Allis, WI', 'West Bend, WI', 'Wisconsin Rapids, WI']\n"
     ]
    }
   ],
   "source": [
    "#loop through ul_lists to extract only text\n",
    "locations = []\n",
    "soup = BeautifulSoup(str(ul_lists))\n",
    "spans = soup.findAll('span')\n",
    "for span in spans:\n",
    "    locations.append(span.text)\n",
    "    \n",
    "print(locations) "
   ]
  },
  {
   "cell_type": "code",
   "execution_count": 21,
   "metadata": {},
   "outputs": [
    {
     "data": {
      "text/html": [
       "<div>\n",
       "<style scoped>\n",
       "    .dataframe tbody tr th:only-of-type {\n",
       "        vertical-align: middle;\n",
       "    }\n",
       "\n",
       "    .dataframe tbody tr th {\n",
       "        vertical-align: top;\n",
       "    }\n",
       "\n",
       "    .dataframe thead th {\n",
       "        text-align: right;\n",
       "    }\n",
       "</style>\n",
       "<table border=\"1\" class=\"dataframe\">\n",
       "  <thead>\n",
       "    <tr style=\"text-align: right;\">\n",
       "      <th></th>\n",
       "      <th>city</th>\n",
       "      <th>state</th>\n",
       "    </tr>\n",
       "  </thead>\n",
       "  <tbody>\n",
       "    <tr>\n",
       "      <td>0</td>\n",
       "      <td>Anchorage</td>\n",
       "      <td>AK</td>\n",
       "    </tr>\n",
       "    <tr>\n",
       "      <td>1</td>\n",
       "      <td>Fairbanks</td>\n",
       "      <td>AK</td>\n",
       "    </tr>\n",
       "    <tr>\n",
       "      <td>2</td>\n",
       "      <td>Juneau</td>\n",
       "      <td>AK</td>\n",
       "    </tr>\n",
       "    <tr>\n",
       "      <td>3</td>\n",
       "      <td>Soldotna</td>\n",
       "      <td>AK</td>\n",
       "    </tr>\n",
       "    <tr>\n",
       "      <td>4</td>\n",
       "      <td>Birmingham</td>\n",
       "      <td>AL</td>\n",
       "    </tr>\n",
       "    <tr>\n",
       "      <td>...</td>\n",
       "      <td>...</td>\n",
       "      <td>...</td>\n",
       "    </tr>\n",
       "    <tr>\n",
       "      <td>603</td>\n",
       "      <td>Sparta</td>\n",
       "      <td>WI</td>\n",
       "    </tr>\n",
       "    <tr>\n",
       "      <td>604</td>\n",
       "      <td>Waukesha</td>\n",
       "      <td>WI</td>\n",
       "    </tr>\n",
       "    <tr>\n",
       "      <td>605</td>\n",
       "      <td>West Allis</td>\n",
       "      <td>WI</td>\n",
       "    </tr>\n",
       "    <tr>\n",
       "      <td>606</td>\n",
       "      <td>West Bend</td>\n",
       "      <td>WI</td>\n",
       "    </tr>\n",
       "    <tr>\n",
       "      <td>607</td>\n",
       "      <td>Wisconsin Rapids</td>\n",
       "      <td>WI</td>\n",
       "    </tr>\n",
       "  </tbody>\n",
       "</table>\n",
       "<p>608 rows × 2 columns</p>\n",
       "</div>"
      ],
      "text/plain": [
       "                 city state\n",
       "0           Anchorage    AK\n",
       "1           Fairbanks    AK\n",
       "2              Juneau    AK\n",
       "3            Soldotna    AK\n",
       "4          Birmingham    AL\n",
       "..                ...   ...\n",
       "603            Sparta    WI\n",
       "604          Waukesha    WI\n",
       "605        West Allis    WI\n",
       "606         West Bend    WI\n",
       "607  Wisconsin Rapids    WI\n",
       "\n",
       "[608 rows x 2 columns]"
      ]
     },
     "execution_count": 21,
     "metadata": {},
     "output_type": "execute_result"
    }
   ],
   "source": [
    "#save to csv\n",
    "df = pd.DataFrame(locations, columns=[\"location\"])\n",
    "df.to_csv('plannedParenthood.csv', index=False)\n",
    "\n",
    "#read csv to split column (delimiter=',') to two \n",
    "data = pd.read_csv(\"plannedParenthood.csv\") \n",
    "\n",
    "# new data frame with split value columns \n",
    "new = data[\"location\"].str.split(\",\", n = 1, expand = True) \n",
    "\n",
    "# making separate first name column from new data frame \n",
    "data[\"city\"]= new[0] \n",
    "\n",
    "# making separate last name column from new data frame \n",
    "data[\"state\"]= new[1] \n",
    "\n",
    "# Dropping old column names\n",
    "data.drop(columns =[\"location\"], inplace = True) \n",
    "  \n",
    "#save to csv\n",
    "data.to_csv('plannedParenthood.csv', index=False)\n",
    "\n",
    "# df display \n",
    "data\n"
   ]
  },
  {
   "cell_type": "code",
   "execution_count": 30,
   "metadata": {},
   "outputs": [
    {
     "data": {
      "text/plain": [
       "<pandas.core.groupby.generic.DataFrameGroupBy object at 0x120e6f860>"
      ]
     },
     "execution_count": 30,
     "metadata": {},
     "output_type": "execute_result"
    }
   ],
   "source": [
    "count_state=data.groupby('state')\n",
    "#save to csv\n",
    "count_state\n"
   ]
  },
  {
   "cell_type": "markdown",
   "metadata": {},
   "source": [
    "# Extract - AIDS Deaths Dataset"
   ]
  },
  {
   "cell_type": "code",
   "execution_count": null,
   "metadata": {},
   "outputs": [],
   "source": [
    "# Dependencies\n",
    "import pandas as pd\n",
    "import os"
   ]
  },
  {
   "cell_type": "code",
   "execution_count": null,
   "metadata": {},
   "outputs": [],
   "source": [
    "#set file path\n",
    "file = 'AIDS_deaths_state.csv'\n",
    "\n",
    "#load csv to df\n",
    "df = pd.read_csv(file)\n"
   ]
  },
  {
   "cell_type": "markdown",
   "metadata": {},
   "source": [
    "# Transform\n",
    "\n",
    "# ======================================"
   ]
  },
  {
   "cell_type": "code",
   "execution_count": null,
   "metadata": {},
   "outputs": [],
   "source": [
    "g = df.groupby('Geography')\n",
    "g"
   ]
  },
  {
   "cell_type": "code",
   "execution_count": null,
   "metadata": {},
   "outputs": [],
   "source": [
    "for Geography, Geography_df in g:\n",
    "    print(Geography)\n",
    "    print(Geography_df)"
   ]
  },
  {
   "cell_type": "code",
   "execution_count": null,
   "metadata": {},
   "outputs": [],
   "source": [
    "#end up running into issues with my groupby function. \n",
    "#Groupby Geography and sum() Cases would throw me an error but not when\n",
    "#applying max and min for Cases so I used excel to groupby Geography \n",
    "\n",
    "#set file path\n",
    "file = 'AIDS_deaths_sum_state csv.csv'\n",
    "\n",
    "#load csv to df\n",
    "aids_group = pd.read_csv(file)\n",
    "\n",
    "\n",
    "\n",
    "\n"
   ]
  },
  {
   "cell_type": "code",
   "execution_count": null,
   "metadata": {},
   "outputs": [],
   "source": [
    "#dropp all U.S. territory that are not a state\n",
    "#American Samoa\n",
    "#Northern Mariana Island\n",
    "#U.S. Virgin Islands\n",
    "#Puerto Rico\n",
    "#Northern Mariana Islands\n",
    "#Guam\n",
    "#District of Columbia - federal state\n",
    "\n",
    "# dropping passed values \n",
    "#aids_group.drop([\"American Samoa\", \"Northern Mariana Island\", \"U.S. Virgin Islands\", \n",
    "                            #\"Puerto Rico\", \"Northern Mariana Islands\", \"Guam\", \"District of Columbia\"], axis = 1, inplace = True)\n",
    "#display\n",
    "aids_group.head()\n",
    "\n",
    "\n"
   ]
  },
  {
   "cell_type": "markdown",
   "metadata": {},
   "source": [
    "# Load and Connect to PostgreSQL DB server using pgAdmin\n",
    "\n",
    "- open new pdAdmin window\n",
    "- create new DB - aids_group\n",
    "- create tables\n",
    "\n",
    "\n",
    "# ======================================\n"
   ]
  },
  {
   "cell_type": "markdown",
   "metadata": {},
   "source": [
    "-- Database: aids_group\n",
    "\n",
    "-- DROP DATABASE aids_group;\n",
    "\n",
    "CREATE DATABASE aids_group\n",
    "    WITH \n",
    "    OWNER = postgres\n",
    "    ENCODING = 'UTF8'\n",
    "    LC_COLLATE = 'C'\n",
    "    LC_CTYPE = 'C'\n",
    "    TABLESPACE = pg_default\n",
    "    CONNECTION LIMIT = -1;\n",
    "    \n",
    "    \n",
    "-- CREATE TABLE;\n",
    "\n",
    "CREATE TABLE aids(\n",
    "   Geography VARCHAR(50),\n",
    "   sum_cases INT,\n",
    "   PRIMARY KEY(Geography)\n",
    ");\n",
    "\n",
    "SELECT *\n",
    "FROM aids;"
   ]
  },
  {
   "cell_type": "markdown",
   "metadata": {},
   "source": [
    "<img src=\"img/db.png\">"
   ]
  }
 ],
 "metadata": {
  "kernelspec": {
   "display_name": "Python 3",
   "language": "python",
   "name": "python3"
  },
  "language_info": {
   "codemirror_mode": {
    "name": "ipython",
    "version": 3
   },
   "file_extension": ".py",
   "mimetype": "text/x-python",
   "name": "python",
   "nbconvert_exporter": "python",
   "pygments_lexer": "ipython3",
   "version": "3.7.3"
  }
 },
 "nbformat": 4,
 "nbformat_minor": 2
}
